{
 "cells": [
  {
   "cell_type": "code",
   "execution_count": 1,
   "id": "5876d8fd-4a3d-40bb-bf2a-74f1804fe461",
   "metadata": {},
   "outputs": [],
   "source": [
    "import torch\n",
    "from torch import nn"
   ]
  },
  {
   "cell_type": "code",
   "execution_count": 6,
   "id": "b2721d57-29be-4f0f-99a4-08b351438f71",
   "metadata": {},
   "outputs": [
    {
     "data": {
      "text/plain": [
       "torch.Size([2, 1, 3])"
      ]
     },
     "execution_count": 6,
     "metadata": {},
     "output_type": "execute_result"
    }
   ],
   "source": [
    "inputs = torch.Tensor([[[0.2, 0.1, 0.3], [0.5, 0.1, 0.1]]])\n",
    "B, S, E = inputs.size()  # the B is added to add the batch dimension since its helpful in parallelizing training .S=WORD SIZE=2, E=Embedding size=3\n",
    "inputs = inputs.reshape(S, B, E)\n",
    "inputs.size()"
   ]
  },
  {
   "cell_type": "code",
   "execution_count": 7,
   "id": "4ccc57f0-0468-4cb2-8472-48277a0e23e1",
   "metadata": {},
   "outputs": [
    {
     "data": {
      "text/plain": [
       "torch.Size([1, 3])"
      ]
     },
     "execution_count": 7,
     "metadata": {},
     "output_type": "execute_result"
    }
   ],
   "source": [
    "parameter_shape = inputs.size()[-2:]\n",
    "gamma = nn.Parameter(torch.ones(parameter_shape)) #initilaise this learnable paramter to 1 as the standard dev\n",
    "beta = nn.Parameter(torch.zeros(parameter_shape)) # initialize this learnabel paramter as 0\n",
    "parameter_shape"
   ]
  },
  {
   "cell_type": "code",
   "execution_count": 8,
   "id": "cf33bf28-8142-4d51-9629-2020394f3fd1",
   "metadata": {},
   "outputs": [
    {
     "data": {
      "text/plain": [
       "(torch.Size([1, 3]), torch.Size([1, 3]))"
      ]
     },
     "execution_count": 8,
     "metadata": {},
     "output_type": "execute_result"
    }
   ],
   "source": [
    "gamma.size(), beta.size()"
   ]
  },
  {
   "cell_type": "code",
   "execution_count": 9,
   "id": "aeab832a-92dc-4160-b843-906bc87f7882",
   "metadata": {},
   "outputs": [
    {
     "data": {
      "text/plain": [
       "[-1, -2]"
      ]
     },
     "execution_count": 9,
     "metadata": {},
     "output_type": "execute_result"
    }
   ],
   "source": [
    "# computing the dimensions for which we want to compute the layer normalization i.e, the batch dimension and the embedding dimension \n",
    "dims = [-(i + 1) for i in range(len(parameter_shape))]\n",
    "dims"
   ]
  },
  {
   "cell_type": "code",
   "execution_count": 12,
   "id": "f15d5de8-98f6-42e6-b55b-a4270ad8edb2",
   "metadata": {},
   "outputs": [
    {
     "data": {
      "text/plain": [
       "torch.Size([2, 1, 1])"
      ]
     },
     "execution_count": 12,
     "metadata": {},
     "output_type": "execute_result"
    }
   ],
   "source": [
    "#mean across the batch and layer dimension(embedding)\n",
    "mean = inputs.mean(dim=dims, keepdim=True)\n",
    "mean.size()"
   ]
  },
  {
   "cell_type": "code",
   "execution_count": 13,
   "id": "91864a7c-83c2-40fc-ad79-05612a421742",
   "metadata": {},
   "outputs": [
    {
     "data": {
      "text/plain": [
       "tensor([[[0.2000]],\n",
       "\n",
       "        [[0.2333]]])"
      ]
     },
     "execution_count": 13,
     "metadata": {},
     "output_type": "execute_result"
    }
   ],
   "source": [
    "mean"
   ]
  },
  {
   "cell_type": "code",
   "execution_count": 15,
   "id": "effa2211-1a11-4c8e-ac5c-a5cda9b71dcc",
   "metadata": {},
   "outputs": [
    {
     "data": {
      "text/plain": [
       "tensor([[[0.0817]],\n",
       "\n",
       "        [[0.1886]]])"
      ]
     },
     "execution_count": 15,
     "metadata": {},
     "output_type": "execute_result"
    }
   ],
   "source": [
    "#standard deviation across the batch dimension and the layer dimension\n",
    "var = ((inputs - mean)**2).mean(dim=dims, keepdim=True)\n",
    "epsilon = 1e-5\n",
    "std = (var + epsilon).sqrt()   # we add the small epsilon value such that std is not zero since we are yo use it in the denominator\n",
    "std"
   ]
  },
  {
   "cell_type": "code",
   "execution_count": 16,
   "id": "9daeda8d-bd28-4b86-8745-07a0b8a3fec2",
   "metadata": {},
   "outputs": [
    {
     "data": {
      "text/plain": [
       "torch.Size([2, 1, 1])"
      ]
     },
     "execution_count": 16,
     "metadata": {},
     "output_type": "execute_result"
    }
   ],
   "source": [
    "std.size()"
   ]
  },
  {
   "cell_type": "code",
   "execution_count": 17,
   "id": "c2465a9b-e002-4498-a5f5-97c3d991043f",
   "metadata": {},
   "outputs": [
    {
     "data": {
      "text/plain": [
       "tensor([[[ 0.0000, -1.2238,  1.2238]],\n",
       "\n",
       "        [[ 1.4140, -0.7070, -0.7070]]])"
      ]
     },
     "execution_count": 17,
     "metadata": {},
     "output_type": "execute_result"
    }
   ],
   "source": [
    "# Y = (X-mean)/ std\n",
    "y = (inputs - mean) / std\n",
    "y"
   ]
  },
  {
   "cell_type": "code",
   "execution_count": 18,
   "id": "4a81f546-2cb8-4260-9af4-b82f057e833a",
   "metadata": {},
   "outputs": [],
   "source": [
    "## To get our normalized layer output\n",
    "# out = gamma * Y + beta\n",
    "out = gamma * y + beta"
   ]
  },
  {
   "cell_type": "code",
   "execution_count": 19,
   "id": "2c680f85-69f7-4b3b-a62f-869a1a5c6be7",
   "metadata": {},
   "outputs": [
    {
     "data": {
      "text/plain": [
       "tensor([[[ 0.0000, -1.2238,  1.2238]],\n",
       "\n",
       "        [[ 1.4140, -0.7070, -0.7070]]], grad_fn=<AddBackward0>)"
      ]
     },
     "execution_count": 19,
     "metadata": {},
     "output_type": "execute_result"
    }
   ],
   "source": [
    "out"
   ]
  },
  {
   "cell_type": "code",
   "execution_count": 20,
   "id": "3c5467d5-36c8-4f2b-af80-57e92a576b30",
   "metadata": {},
   "outputs": [],
   "source": [
    "# when you look at the output, it has the AddBackward0 showing that it can be used in back propagation"
   ]
  },
  {
   "cell_type": "code",
   "execution_count": null,
   "id": "c5681ddc-dcb5-4345-be90-10eece311d16",
   "metadata": {},
   "outputs": [],
   "source": []
  }
 ],
 "metadata": {
  "kernelspec": {
   "display_name": "Python 3 (ipykernel)",
   "language": "python",
   "name": "python3"
  },
  "language_info": {
   "codemirror_mode": {
    "name": "ipython",
    "version": 3
   },
   "file_extension": ".py",
   "mimetype": "text/x-python",
   "name": "python",
   "nbconvert_exporter": "python",
   "pygments_lexer": "ipython3",
   "version": "3.11.7"
  }
 },
 "nbformat": 4,
 "nbformat_minor": 5
}
