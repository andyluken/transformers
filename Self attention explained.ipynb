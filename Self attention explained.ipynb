{
 "cells": [
  {
   "cell_type": "markdown",
   "id": "d106e20e-fb9d-4cdf-ae9d-9aecc3c6a7ac",
   "metadata": {},
   "source": [
    "# SELF ATTENTION IN TRANSFORMERS\n",
    "\n",
    "Generate Data\n",
    "\n",
    "Every token must have a Query, Key and Value vector"
   ]
  },
  {
   "cell_type": "code",
   "execution_count": 1,
   "id": "cce6d6d9-7e9c-430c-8c65-8c202999439c",
   "metadata": {},
   "outputs": [],
   "source": [
    "import numpy as np\n",
    "import math "
   ]
  },
  {
   "cell_type": "code",
   "execution_count": 2,
   "id": "202f68c0-29fc-4ff6-9e80-5275c9e80c63",
   "metadata": {},
   "outputs": [],
   "source": [
    "#Create random values for just understanding purposes.\n",
    "L, d_k, d_v = 4, 8, 8  # L- Length of the input sequence, d_k& d_v is the dimension of the key and value vector \n",
    "q = np.random.randn(L, d_k)\n",
    "k = np.random.randn(L, d_k)\n",
    "v = np.random.randn(L, d_v) "
   ]
  },
  {
   "cell_type": "code",
   "execution_count": 3,
   "id": "cda292bc-52b6-4ff2-8d2e-bc9899e9f3f1",
   "metadata": {},
   "outputs": [
    {
     "data": {
      "text/plain": [
       "array([[ 1.18304853e+00, -3.13631763e-01,  9.24653097e-04,\n",
       "        -1.19670113e+00, -4.15901609e-01, -7.93845646e-01,\n",
       "         8.70198594e-01,  6.66830205e-01],\n",
       "       [-2.28167078e-01, -2.67476597e-01, -1.05013566e+00,\n",
       "         1.41707463e+00,  1.34952354e+00, -1.85019868e+00,\n",
       "        -4.06035619e-01,  8.64095133e-01],\n",
       "       [ 3.61913131e-01,  9.99244111e-01, -6.80026644e-01,\n",
       "         2.45144538e+00,  1.52780840e+00,  1.60902785e+00,\n",
       "         6.83520823e-01, -3.07668668e-01],\n",
       "       [-9.46288710e-01, -3.79265717e-02,  2.27832956e-01,\n",
       "        -5.71507154e-01, -1.17008646e+00, -8.38085754e-01,\n",
       "        -2.26409738e-01, -2.72844812e-01]])"
      ]
     },
     "execution_count": 3,
     "metadata": {},
     "output_type": "execute_result"
    }
   ],
   "source": [
    "q"
   ]
  },
  {
   "cell_type": "markdown",
   "id": "c9a041ca-3625-482e-91b0-17f66734828a",
   "metadata": {},
   "source": [
    "k"
   ]
  },
  {
   "cell_type": "code",
   "execution_count": 5,
   "id": "0cb56bcb-89e6-44ed-b137-16a8f18afa2e",
   "metadata": {},
   "outputs": [
    {
     "data": {
      "text/plain": [
       "array([[ 1.2333225 , -0.62699353,  0.32310016, -1.1867326 , -0.18207297,\n",
       "         2.04800005,  0.02230134,  0.18301048],\n",
       "       [-0.85412563,  0.14094044,  0.5287847 , -0.54090079, -0.16981355,\n",
       "        -1.91462681,  1.12083824, -0.19820833],\n",
       "       [ 1.01747248,  0.16747363,  0.01942133,  0.06486241,  2.29862547,\n",
       "         0.45047009,  0.10376919,  1.1047455 ],\n",
       "       [ 0.2057432 ,  0.12865555, -0.51736786, -1.0502618 ,  2.48146085,\n",
       "         0.20489614, -0.39753814,  0.8390537 ]])"
      ]
     },
     "execution_count": 5,
     "metadata": {},
     "output_type": "execute_result"
    }
   ],
   "source": [
    "v"
   ]
  },
  {
   "attachments": {
    "5036da96-0273-4a07-8745-6e7ef8ab9f3f.png": {
     "image/png": "[encoded data removed]"
    }
   },
   "cell_type": "markdown",
   "id": "ff99c108-50af-4324-9e50-2a59cc64233f",
   "metadata": {},
   "source": [
    "![image.png](attachment:5036da96-0273-4a07-8745-6e7ef8ab9f3f.png)"
   ]
  },
  {
   "cell_type": "code",
   "execution_count": 6,
   "id": "968d1f39-fffb-46c5-9bf2-1d06fee336f3",
   "metadata": {},
   "outputs": [
    {
     "data": {
      "text/plain": [
       "array([[ 2.79101243, -1.86582682,  0.38558697, -0.19154529],\n",
       "       [-4.59673636, -1.14300148, -0.93929017, -4.34065046],\n",
       "       [-1.4650403 ,  5.68861161,  2.59477458, -4.10608373],\n",
       "       [ 0.05678689, -3.78451946, -1.74907036,  2.78762434]])"
      ]
     },
     "execution_count": 6,
     "metadata": {},
     "output_type": "execute_result"
    }
   ],
   "source": [
    "np.matmul(q, k.T)"
   ]
  },
  {
   "cell_type": "code",
   "execution_count": 7,
   "id": "d633dde0-a4ea-4a7e-8832-e16bc934dc90",
   "metadata": {},
   "outputs": [
    {
     "data": {
      "text/plain": [
       "(0.9583443565030865, 0.9814021653379571, 8.173378769074978)"
      ]
     },
     "execution_count": 7,
     "metadata": {},
     "output_type": "execute_result"
    }
   ],
   "source": [
    "# Why we need sqrt(d_k) in denominator\n",
    "q.var(), k.var(), np.matmul(q, k.T).var()"
   ]
  },
  {
   "cell_type": "code",
   "execution_count": 8,
   "id": "f613df25-4ae6-4cc8-9a35-e4bde6839ee5",
   "metadata": {},
   "outputs": [
    {
     "data": {
      "text/plain": [
       "(0.9583443565030865, 0.9814021653379571, 1.021672346134372)"
      ]
     },
     "execution_count": 8,
     "metadata": {},
     "output_type": "execute_result"
    }
   ],
   "source": [
    "scaled = np.matmul(q, k.T) / math.sqrt(d_k)\n",
    "q.var(), k.var(), scaled.var()"
   ]
  },
  {
   "cell_type": "markdown",
   "id": "8ff901ed-fe77-4cf8-a220-6e9aed34c9ac",
   "metadata": {},
   "source": [
    "Notice the reduction in variance of the product"
   ]
  },
  {
   "cell_type": "code",
   "execution_count": 9,
   "id": "4f4b0d96-b695-4f85-888e-a32021b72cd3",
   "metadata": {},
   "outputs": [
    {
     "data": {
      "text/plain": [
       "array([[ 0.98677191, -0.6596694 ,  0.13632558, -0.06772149],\n",
       "       [-1.62519173, -0.40411205, -0.33208922, -1.53465169],\n",
       "       [-0.51796996,  2.01122792,  0.91739135, -1.45171982],\n",
       "       [ 0.0200772 , -1.33802969, -0.61838975,  0.98557404]])"
      ]
     },
     "execution_count": 9,
     "metadata": {},
     "output_type": "execute_result"
    }
   ],
   "source": [
    "scaled"
   ]
  },
  {
   "cell_type": "markdown",
   "id": "af9117ff-d80a-47dd-8d4a-52c09e4604e1",
   "metadata": {},
   "source": [
    "# MASKING \n",
    "- This is to ensure words dont get context from the wors generated in the future\n",
    "- Nt required in the encoders, but required in the decoders"
   ]
  },
  {
   "cell_type": "code",
   "execution_count": 10,
   "id": "a0dcc53b-0682-4f2a-b250-4caa9ac16da8",
   "metadata": {},
   "outputs": [
    {
     "data": {
      "text/plain": [
       "array([[1., 0., 0., 0.],\n",
       "       [1., 1., 0., 0.],\n",
       "       [1., 1., 1., 0.],\n",
       "       [1., 1., 1., 1.]])"
      ]
     },
     "execution_count": 10,
     "metadata": {},
     "output_type": "execute_result"
    }
   ],
   "source": [
    "mask = np.tril(np.ones( (L, L) ))\n",
    "mask"
   ]
  },
  {
   "cell_type": "code",
   "execution_count": 11,
   "id": "11e359d7-0447-44f0-8774-80aed529eeb6",
   "metadata": {},
   "outputs": [],
   "source": [
    "\n",
    "mask[mask == 0] = -np.infty\n",
    "mask[mask == 1] = 0"
   ]
  },
  {
   "cell_type": "code",
   "execution_count": 12,
   "id": "dccae1d9-af41-416d-9ce9-5c5a6c889090",
   "metadata": {},
   "outputs": [
    {
     "data": {
      "text/plain": [
       "array([[  0., -inf, -inf, -inf],\n",
       "       [  0.,   0., -inf, -inf],\n",
       "       [  0.,   0.,   0., -inf],\n",
       "       [  0.,   0.,   0.,   0.]])"
      ]
     },
     "execution_count": 12,
     "metadata": {},
     "output_type": "execute_result"
    }
   ],
   "source": [
    "mask"
   ]
  },
  {
   "cell_type": "code",
   "execution_count": 13,
   "id": "6cc760c5-c57e-4952-bad2-ce90e9fbb486",
   "metadata": {},
   "outputs": [
    {
     "data": {
      "text/plain": [
       "array([[ 0.98677191,        -inf,        -inf,        -inf],\n",
       "       [-1.62519173, -0.40411205,        -inf,        -inf],\n",
       "       [-0.51796996,  2.01122792,  0.91739135,        -inf],\n",
       "       [ 0.0200772 , -1.33802969, -0.61838975,  0.98557404]])"
      ]
     },
     "execution_count": 13,
     "metadata": {},
     "output_type": "execute_result"
    }
   ],
   "source": [
    "scaled + mask"
   ]
  },
  {
   "attachments": {
    "56fe4aff-e163-44b5-9cf9-d196e9e0740e.png": {
     "image/png": "[encoded data removed]"
    }
   },
   "cell_type": "markdown",
   "id": "c2bb9122-c9df-4239-9d7e-f9b59c5374f8",
   "metadata": {},
   "source": [
    "![image.png](attachment:56fe4aff-e163-44b5-9cf9-d196e9e0740e.png)"
   ]
  },
  {
   "cell_type": "code",
   "execution_count": 14,
   "id": "eb949cc0-5628-4d95-9baf-b06807cc41e5",
   "metadata": {},
   "outputs": [],
   "source": [
    "def softmax(x):\n",
    "  return (np.exp(x).T / np.sum(np.exp(x), axis=-1)).T"
   ]
  },
  {
   "cell_type": "code",
   "execution_count": 15,
   "id": "6a13bd6d-d69a-4a8d-b319-a81f84aa077f",
   "metadata": {},
   "outputs": [],
   "source": [
    "attention = softmax(scaled + mask)"
   ]
  },
  {
   "cell_type": "code",
   "execution_count": 16,
   "id": "eb1b1720-a2b4-4ddd-a0e9-8305bfbc78ef",
   "metadata": {},
   "outputs": [
    {
     "data": {
      "text/plain": [
       "array([[1.        , 0.        , 0.        , 0.        ],\n",
       "       [0.2277465 , 0.7722535 , 0.        , 0.        ],\n",
       "       [0.05635516, 0.70688764, 0.2367572 , 0.        ],\n",
       "       [0.22668846, 0.05829229, 0.11971449, 0.59530476]])"
      ]
     },
     "execution_count": 16,
     "metadata": {},
     "output_type": "execute_result"
    }
   ],
   "source": [
    "\n",
    "attention"
   ]
  },
  {
   "cell_type": "code",
   "execution_count": 17,
   "id": "03bb00ca-d139-4484-af82-bf67d8413aea",
   "metadata": {},
   "outputs": [
    {
     "data": {
      "text/plain": [
       "array([[ 1.2333225 , -0.62699353,  0.32310016, -1.1867326 , -0.18207297,\n",
       "         2.04800005,  0.02230134,  0.18301048],\n",
       "       [-0.37871662, -0.03395384,  0.48194076, -0.68798673, -0.17260559,\n",
       "        -1.0121524 ,  0.8706503 , -0.11138708],\n",
       "       [-0.29337282,  0.10394532,  0.39659787, -0.43387795,  0.41391628,\n",
       "        -1.13135861,  0.81813159,  0.13175902],\n",
       "       [ 0.47407715, -0.03727817, -0.20159939, -0.91800981,  1.70123159,\n",
       "         0.52855344, -0.15384199,  0.66167906]])"
      ]
     },
     "execution_count": 17,
     "metadata": {},
     "output_type": "execute_result"
    }
   ],
   "source": [
    "new_v = np.matmul(attention, v)\n",
    "new_v"
   ]
  },
  {
   "cell_type": "code",
   "execution_count": 18,
   "id": "256fc2d0-6089-4601-9f82-c0d51d72c378",
   "metadata": {},
   "outputs": [
    {
     "data": {
      "text/plain": [
       "array([[ 1.2333225 , -0.62699353,  0.32310016, -1.1867326 , -0.18207297,\n",
       "         2.04800005,  0.02230134,  0.18301048],\n",
       "       [-0.85412563,  0.14094044,  0.5287847 , -0.54090079, -0.16981355,\n",
       "        -1.91462681,  1.12083824, -0.19820833],\n",
       "       [ 1.01747248,  0.16747363,  0.01942133,  0.06486241,  2.29862547,\n",
       "         0.45047009,  0.10376919,  1.1047455 ],\n",
       "       [ 0.2057432 ,  0.12865555, -0.51736786, -1.0502618 ,  2.48146085,\n",
       "         0.20489614, -0.39753814,  0.8390537 ]])"
      ]
     },
     "execution_count": 18,
     "metadata": {},
     "output_type": "execute_result"
    }
   ],
   "source": [
    "v"
   ]
  },
  {
   "cell_type": "code",
   "execution_count": null,
   "id": "3349fdaa-a9bb-4874-8eff-b4dda54a92ad",
   "metadata": {},
   "outputs": [],
   "source": []
  }
 ],
 "metadata": {
  "kernelspec": {
   "display_name": "Python 3 (ipykernel)",
   "language": "python",
   "name": "python3"
  },
  "language_info": {
   "codemirror_mode": {
    "name": "ipython",
    "version": 3
   },
   "file_extension": ".py",
   "mimetype": "text/x-python",
   "name": "python",
   "nbconvert_exporter": "python",
   "pygments_lexer": "ipython3",
   "version": "3.11.7"
  }
 },
 "nbformat": 4,
 "nbformat_minor": 5
}
